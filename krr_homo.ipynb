{
 "cells": [
  {
   "cell_type": "markdown",
   "metadata": {},
   "source": [
    "# HOMO energy prediction with kernel ridge regression\n",
    "\n",
    "\n",
    "In this notebook we will machine-learn the relationship between molecules (represented by the Coulomb matrix CM) and their HOMO energy using kernel regression (KRR).\n",
    "\n",
    "KRR is a machine learning method that performs regression (fitting). This tutorial shows step by step how to load the data, visualize them, select the hyperparameters, train the model and validate it. We use the QM9 dataset of 134k small organic molecules. The HOMO energies of all molecules were pre-computed with first principles quantum mechanical methods (DFT) to obtain the target data that our model can be trained on. Detailed descriptions and results can be found in Stuke, Annika, et al. \"Chemical diversity in molecular orbital energy predictions with kernel ridge regression.\" The Journal of chemical physics 150.20 (2019): 204121.\n",
    "\n",
    "## Setup"
   ]
  },
  {
   "cell_type": "code",
   "execution_count": 69,
   "metadata": {
    "collapsed": true
   },
   "outputs": [],
   "source": [
    "# initial imports\n",
    "\n",
    "import numpy as np\n",
    "import math, random\n",
    "import matplotlib.pyplot as plt\n",
    "import pandas as pd\n",
    "import json\n",
    "import seaborn as sns\n",
    "from scipy.sparse import load_npz\n",
    "from matplotlib.colors import LinearSegmentedColormap\n",
    "from sklearn.model_selection import GridSearchCV\n",
    "from sklearn.kernel_ridge import KernelRidge\n",
    "from sklearn.metrics import r2_score"
   ]
  },
  {
   "cell_type": "markdown",
   "metadata": {},
   "source": [
    "## Load and visualize data \n",
    "\n",
    "At first, we load the data. The input data x is an array that contains all 133,814 molecules of the QM9 dataset, represented by their Coulomb matrices. The output data y is a list that contains the corresponding (pre-computed) HOMO energies."
   ]
  },
  {
   "cell_type": "code",
   "execution_count": 70,
   "metadata": {},
   "outputs": [
    {
     "name": "stdout",
     "output_type": "stream",
     "text": [
      "Number of molecules: 133814\n"
     ]
    }
   ],
   "source": [
    "x = load_npz(\"./data/qm9/cm.npz\").toarray()\n",
    "y = np.genfromtxt(\"./data/qm9/HOMO.txt\")\n",
    "\n",
    "print(\"Number of molecules:\", len(y))"
   ]
  },
  {
   "cell_type": "markdown",
   "metadata": {},
   "source": [
    "Print the Coulomb matrix of a random molecule in the dataset."
   ]
  },
  {
   "cell_type": "code",
   "execution_count": 94,
   "metadata": {},
   "outputs": [
    {
     "name": "stdout",
     "output_type": "stream",
     "text": [
      "[ 36.858  23.605  13.719  11.715   9.968  15.609  13.863   9.4     9.523\n",
      "   5.468   5.458   5.459   2.794   1.916   1.478   2.167   1.299   2.063\n",
      "   1.267   1.452   1.258   0.      0.      0.      0.      0.      0.      0.\n",
      "   0.     23.605  36.858  23.106  13.998  13.08   19.72   23.264  14.99\n",
      "  14.772   2.749   2.751   2.763   5.439   2.687   1.701   2.104   1.563\n",
      "   2.66    1.762   2.256   1.751   0.      0.      0.      0.      0.      0.\n",
      "   0.      0.     13.719  23.106  36.858  23.239  16.989  17.824  15.104\n",
      "  14.363  22.743   2.019   2.103   1.687   2.767   5.471   2.729   2.609\n",
      "   1.904   1.757   1.724   2.074   2.606   0.      0.      0.      0.      0.\n",
      "   0.      0.      0.     11.715  13.998  23.239  36.858  23.371  19.473\n",
      "  12.049  10.727  16.516   2.105   1.811   1.456   1.712   2.625   5.458\n",
      "   5.469   2.606   1.507   1.48    1.469   2.171   0.      0.      0.      0.\n",
      "   0.      0.      0.      0.      9.968  13.08   16.989  23.371  36.858\n",
      "  33.155  15.665  14.765  22.997   1.79    1.419   1.348   1.639   1.921\n",
      "   2.743   2.644   5.468   1.844   2.137   1.751   2.632   0.      0.      0.\n",
      "   0.      0.      0.      0.      0.     15.609  19.72   17.824  19.473\n",
      "  33.155  73.517  33.125  20.584  20.31    2.916   2.009   2.2     2.377\n",
      "   2.112   2.346   2.924   3.861   3.871   3.052   2.403   2.395   0.      0.\n",
      "   0.      0.      0.      0.      0.      0.     13.863  23.264  15.104\n",
      "  12.049  15.665  33.125  36.858  23.463  16.229   2.142   1.696   2.036\n",
      "   2.786   1.799   1.511   1.773   1.882   5.473   2.724   2.713   1.829\n",
      "   0.      0.      0.      0.      0.      0.      0.      0.      9.4\n",
      "  14.99   14.363  10.727  14.765  20.584  23.463  36.858  23.663   1.443\n",
      "   1.312   1.406   2.304   1.839   1.483   1.452   1.899   2.645   5.465\n",
      "   5.464   2.64    0.      0.      0.      0.      0.      0.      0.      0.\n",
      "   9.523  14.772  22.743  16.516  22.997  20.31   16.229  23.663  36.858\n",
      "   1.51    1.4     1.318   2.047   2.572   2.283   1.891   2.56    1.833\n",
      "   2.723   2.717   5.486   0.      0.      0.      0.      0.      0.      0.\n",
      "   0.      5.468   2.749   2.019   2.105   1.79    2.916   2.142   1.443\n",
      "   1.51    0.5     0.563   0.565   0.326   0.273   0.259   0.444   0.237\n",
      "   0.323   0.203   0.213   0.201   0.      0.      0.      0.      0.      0.\n",
      "   0.      0.      5.458   2.751   2.103   1.811   1.419   2.009   1.696\n",
      "   1.312   1.4     0.563   0.5     0.564   0.39    0.334   0.243   0.341\n",
      "   0.191   0.253   0.18    0.21    0.194   0.      0.      0.      0.      0.\n",
      "   0.      0.      0.      5.459   2.763   1.687   1.456   1.348   2.2\n",
      "   2.036   1.406   1.318   0.565   0.564   0.5     0.412   0.248   0.195\n",
      "   0.262   0.184   0.35    0.196   0.225   0.179   0.      0.      0.      0.\n",
      "   0.      0.      0.      0.      2.794   5.439   2.767   1.712   1.639\n",
      "   2.377   2.786   2.304   2.047   0.326   0.39    0.412   0.5     0.413\n",
      "   0.231   0.259   0.211   0.382   0.274   0.42    0.265   0.      0.      0.\n",
      "   0.      0.      0.      0.      0.      1.916   2.687   5.471   2.625\n",
      "   1.921   2.112   1.799   1.839   2.572   0.273   0.334   0.248   0.413\n",
      "   0.5     0.392   0.339   0.245   0.232   0.234   0.299   0.373   0.      0.\n",
      "   0.      0.      0.      0.      0.      0.      1.478   1.701   2.729\n",
      "   5.458   2.743   2.346   1.511   1.483   2.283   0.259   0.243   0.195\n",
      "   0.231   0.392   0.5     0.558   0.386   0.2     0.214   0.212   0.359\n",
      "   0.      0.      0.      0.      0.      0.      0.      0.      2.167\n",
      "   2.104   2.609   5.469   2.644   2.924   1.773   1.452   1.891   0.444\n",
      "   0.341   0.262   0.259   0.339   0.558   0.5     0.344   0.238   0.207\n",
      "   0.205   0.26    0.      0.      0.      0.      0.      0.      0.      0.\n",
      "   1.299   1.563   1.904   2.606   5.468   3.861   1.882   1.899   2.56\n",
      "   0.237   0.191   0.184   0.211   0.245   0.386   0.344   0.5     0.249\n",
      "   0.314   0.238   0.37    0.      0.      0.      0.      0.      0.      0.\n",
      "   0.      2.063   2.66    1.757   1.507   1.844   3.871   5.473   2.645\n",
      "   1.833   0.323   0.253   0.35    0.382   0.232   0.2     0.238   0.249\n",
      "   0.5     0.378   0.367   0.232   0.      0.      0.      0.      0.      0.\n",
      "   0.      0.      1.267   1.762   1.724   1.48    2.137   3.052   2.724\n",
      "   5.465   2.723   0.203   0.18    0.196   0.274   0.234   0.214   0.207\n",
      "   0.314   0.378   0.5     0.557   0.371   0.      0.      0.      0.      0.\n",
      "   0.      0.      0.      1.452   2.256   2.074   1.469   1.751   2.403\n",
      "   2.713   5.464   2.717   0.213   0.21    0.225   0.42    0.299   0.212\n",
      "   0.205   0.238   0.367   0.557   0.5     0.367   0.      0.      0.      0.\n",
      "   0.      0.      0.      0.      1.258   1.751   2.606   2.171   2.632\n",
      "   2.395   1.829   2.64    5.486   0.201   0.194   0.179   0.265   0.373\n",
      "   0.359   0.26    0.37    0.232   0.371   0.367   0.5     0.      0.      0.\n",
      "   0.      0.      0.      0.      0.      0.      0.      0.      0.      0.\n",
      "   0.      0.      0.      0.      0.      0.      0.      0.      0.      0.\n",
      "   0.      0.      0.      0.      0.      0.      0.      0.      0.      0.\n",
      "   0.      0.      0.      0.      0.      0.      0.      0.      0.      0.\n",
      "   0.      0.      0.      0.      0.      0.      0.      0.      0.      0.\n",
      "   0.      0.      0.      0.      0.      0.      0.      0.      0.      0.\n",
      "   0.      0.      0.      0.      0.      0.      0.      0.      0.      0.\n",
      "   0.      0.      0.      0.      0.      0.      0.      0.      0.      0.\n",
      "   0.      0.      0.      0.      0.      0.      0.      0.      0.      0.\n",
      "   0.      0.      0.      0.      0.      0.      0.      0.      0.      0.\n",
      "   0.      0.      0.      0.      0.      0.      0.      0.      0.      0.\n",
      "   0.      0.      0.      0.      0.      0.      0.      0.      0.      0.\n",
      "   0.      0.      0.      0.      0.      0.      0.      0.      0.      0.\n",
      "   0.      0.      0.      0.      0.      0.      0.      0.      0.      0.\n",
      "   0.      0.      0.      0.      0.      0.      0.      0.      0.      0.\n",
      "   0.      0.      0.      0.      0.      0.      0.      0.      0.      0.\n",
      "   0.      0.      0.      0.      0.      0.      0.      0.      0.      0.\n",
      "   0.      0.      0.      0.      0.      0.      0.      0.      0.      0.\n",
      "   0.      0.      0.      0.      0.      0.      0.      0.      0.      0.\n",
      "   0.      0.      0.      0.      0.      0.      0.      0.      0.      0.\n",
      "   0.      0.      0.      0.      0.      0.      0.      0.      0.      0.\n",
      "   0.      0.      0.      0.      0.      0.      0.      0.      0.      0.\n",
      "   0.      0.      0.      0.      0.      0.      0.      0.      0.      0.\n",
      "   0.      0.      0.      0.      0.      0.      0.   ]\n"
     ]
    }
   ],
   "source": [
    "rand_mol = random.randint(0, len(y))\n",
    "\n",
    "print(x[rand_mol])"
   ]
  },
  {
   "cell_type": "markdown",
   "metadata": {},
   "source": [
    "Visualize the Coulomb matrix of the random molecule."
   ]
  },
  {
   "cell_type": "code",
   "execution_count": 95,
   "metadata": {},
   "outputs": [
    {
     "data": {
      "text/plain": [
       "<matplotlib.figure.Figure at 0x7f139d51e4a8>"
      ]
     },
     "metadata": {},
     "output_type": "display_data"
    },
    {
     "data": {
      "image/png": "[encoded data removed]",
      "text/plain": [
       "<matplotlib.figure.Figure at 0x7f139d53ab38>"
      ]
     },
     "metadata": {},
     "output_type": "display_data"
    }
   ],
   "source": [
    "shape = (29, 29)\n",
    "mat = x[rand_mol].reshape(shape)\n",
    "\n",
    "plt.figure()\n",
    "plt.figure(figsize = (6,6))\n",
    "plt.imshow(mat, origin=\"upper\", cmap='rainbow', vmin=-15, vmax=90, interpolation='nearest')\n",
    "plt.colorbar(fraction=0.046, pad=0.04).ax.tick_params(labelsize=20)\n",
    "plt.axis('off')\n",
    "plt.show()"
   ]
  },
  {
   "cell_type": "markdown",
   "metadata": {},
   "source": [
    "Visualize the target data by plotting the distribution of HOMO energies in the dataset."
   ]
  },
  {
   "cell_type": "code",
   "execution_count": 73,
   "metadata": {},
   "outputs": [
    {
     "data": {
      "image/png": "[encoded data removed]",
      "text/plain": [
       "<matplotlib.figure.Figure at 0x7f1393a25828>"
      ]
     },
     "metadata": {},
     "output_type": "display_data"
    },
    {
     "name": "stdout",
     "output_type": "stream",
     "text": [
      "Mean value of HOMO energies in QM9 dataset: -5.77 eV\n"
     ]
    }
   ],
   "source": [
    "plt.hist(y, bins=20, density=False, facecolor='blue')\n",
    "plt.xlabel(\"Energy [eV]\")\n",
    "plt.ylabel(\"Number of molecules\")\n",
    "plt.title(\"Distribution of HOMO energies\")\n",
    "plt.show()\n",
    "\n",
    "## mean value of distribution\n",
    "print(\"Mean value of HOMO energies in QM9 dataset: %0.2f eV\" %np.mean(y))"
   ]
  },
  {
   "cell_type": "markdown",
   "metadata": {},
   "source": [
    "Before dividing the dataset into training and test set, we shuffle the data. Data are often stored in a certain order, and simply taking the first part for training and the second for testing would not result in a well trained model, since the training set would not represent the test data well (and vice versa)."
   ]
  },
  {
   "cell_type": "code",
   "execution_count": 74,
   "metadata": {
    "collapsed": true
   },
   "outputs": [],
   "source": [
    "## shuffle the data\n",
    "\n",
    "c = list(zip(x, y))\n",
    "random.shuffle(c)\n",
    "\n",
    "x, y = zip(*c)\n",
    "\n",
    "x = np.array(x)\n",
    "y = np.array(y)"
   ]
  },
  {
   "cell_type": "markdown",
   "metadata": {},
   "source": [
    "Now, we divide the data into training and test set."
   ]
  },
  {
   "cell_type": "code",
   "execution_count": 75,
   "metadata": {},
   "outputs": [],
   "source": [
    "# decide how many samples to take from the database for training and testing\n",
    "n_train = 1000\n",
    "n_test = 1000\n",
    "\n",
    "# split data in training and test\n",
    "# take first n_train molecules for training\n",
    "x_train  = x[0:n_train] \n",
    "y_train = y[0:n_train]\n",
    "\n",
    "# take the next n_test data for testing\n",
    "x_test = x[n_train:n_train + n_test]\n",
    "y_test = y[n_train:n_train + n_test]"
   ]
  },
  {
   "cell_type": "markdown",
   "metadata": {},
   "source": [
    "Check that the training data resemble the test data well by plotting the distribution of HOMO energies for both sets. The distributions should be centered around the same mean value and have the same shape."
   ]
  },
  {
   "cell_type": "code",
   "execution_count": 76,
   "metadata": {},
   "outputs": [
    {
     "data": {
      "image/png": "[encoded data removed]",
      "text/plain": [
       "<matplotlib.figure.Figure at 0x7f1393c87b00>"
      ]
     },
     "metadata": {},
     "output_type": "display_data"
    },
    {
     "name": "stdout",
     "output_type": "stream",
     "text": [
      "Mean value of HOMO energies in training set: -5.77 eV\n",
      "Mean value of HOMO energies in test set: -5.74 eV\n"
     ]
    }
   ],
   "source": [
    "plt.hist(y_test, bins=20, density=False, alpha=0.5, facecolor='red', label='test set')\n",
    "plt.hist(y_train, bins=20, density=False, alpha=0.5, facecolor='gray', label='training set')\n",
    "plt.xlabel(\"Energy [eV]\")\n",
    "plt.ylabel(\"Number of molecules\")\n",
    "plt.legend()\n",
    "plt.show()\n",
    "\n",
    "## mean value of distributions\n",
    "print(\"Mean value of HOMO energies in training set: %0.2f eV\" %np.mean(y_train))\n",
    "print(\"Mean value of HOMO energies in test set: %0.2f eV\" %np.mean(y_test))"
   ]
  },
  {
   "cell_type": "markdown",
   "metadata": {},
   "source": [
    "## Training\n",
    "\n",
    "In the training phase we use a kernel function to measure the distance between all pairs of molecules (represented by their Coulomb matrices) in the training set. We here employ one of two kernels, the Gaussian kernel or the Laplacian kernel. The Gaussian kernel is given by\n",
    "\n",
    "\\begin{equation}\n",
    "k_{Gaussian}(\\boldsymbol{x},\\boldsymbol{x}')=e^{-\\frac{||{\\boldsymbol{x}-\\boldsymbol{x}'}||_2^2}{2\\gamma^2}},\n",
    "\\end{equation}\n",
    "\n",
    "which employs the Euclidean distance as similarity measure. The parameter $\\gamma$ is defined as $\\frac{1}{2\\sigma^2}$, where $\\sigma$ is the standard deviation of the Gaussian kernel (kernel width). The Laplacian kernel is given by\n",
    "\n",
    "\\begin{equation}\n",
    "    k_{Laplacian}(\\boldsymbol{x},\\boldsymbol{x}')=e^{-\\frac{||{\\boldsymbol{x}-\\boldsymbol{x}'}||_1}{\\gamma}},\n",
    "\\end{equation}\n",
    "\n",
    "which uses the 1-norm as similarity measure. Here, $\\gamma$ is defined as $\\frac{1}{\\sigma}$, where $\\sigma$ is the kernel width of the Laplacian kernel.\n",
    "\n",
    "In the KRR training phase with $N$ training molecules, the machine learns the relationship between the molecules (represented by their Coulomb matrix) and their corresponding (pre-computed) HOMO energies. It does so by employing a function $f(\\boldsymbol{x})$ that maps a training molecule $\\boldsymbol{x}$ to its reference HOMO energy:\n",
    "\n",
    "\\begin{equation}\n",
    "f(\\boldsymbol{x}) = \\sum_{i=1}^N \\omega_i k(\\boldsymbol{x}, \\boldsymbol{x}_i) = HOMO^{ref},\n",
    "\\end{equation}\n",
    "\n",
    "For a given training molecule $\\boldsymbol{x}$, the distance to each molecule in the training set is computed by employing the kernel function $k$ (either Gaussian or Laplacian). Each kernel contribution (distance) is then weighted by a regression weight $\\omega_i$. The above function is thus given by the weighted sum of kernel contributions (sum over $N$ training molecules). The purpose of training is to fit the regression weight $\\omega_i$ so that HOMO$_{ref}$ is matched for each training molecule. In practice, the machine solves the minimization problem\n",
    "\n",
    "\n",
    "\\begin{equation}\n",
    " \\underset{\\omega}{min} \\sum_{i=1}^N (f(\\boldsymbol{x}_i) - HOMO^{ref}_i)^2 + \\alpha \\boldsymbol{\\omega}^T \\mathbf{K} \\boldsymbol{\\omega}.\n",
    "\\end{equation}\n",
    "\n",
    "for a vector $\\boldsymbol{\\omega} \\in \\mathbb{R}^N = (\\omega_1, \\omega_2, ..., \\omega_N)$ of regression weights. In KRR, the penalty term $ \\alpha \\boldsymbol{\\omega}^T \\mathbf{K} \\boldsymbol{\\omega}$ is added to the minimization problem in order to avoid over- and underfitting. Overfitting occurs when the model learns the training data too well, even the noise and other unimportant details. The model is unable to generalize on unseen data and therefore yields high prediction errors on the test data. Underfitting occurs when the model is too simple and does not learn the training data at all, and therefore is not able to predict test data well either. Both behaviours can be avoided by tuning the parameter $\\alpha \\in \\left[0,1\\right]$ to a reasonable value. This has do be done separately from training. Both the regularization parameter $\\alpha$ and the kernel width $\\gamma$ are so called hyperparameters. Hyperparameters cannot be learned during training and have to be selected beforehand. However, it is not always obvious how to choose these hyperparameters and it often requires intuition or rules of thumb. We here employ a cross-validated grid search in order to find the best values for these two hyperparameters. \n",
    "\n",
    "In grid search, a part of the training set is split off as validation set. We set up a grid of pre-defined hyperparameter values and train the machine on the remaining training set, for each possible combination of $\\alpha$ and $\\gamma$ values. We validate each possible combination by making predictions on the validation set. The two hyperparameter values that yield the best performance (lowest error) are then selected for the final model to make predictions on the test set.\n",
    "\n",
    "In cross-validation, the roles of training and validation sets alternate. As described above, a part from the training set is split off as validation set. After training one combination of hyperparameters on the remaining training set and validating on the validation set, the validation set becomes the training set and vice versa, and the model is trained on the new training set and validated on the new validation set for the same combination of hyperparameters. The ratio can be varied, for example in 5-fold cross-validation, the training set is split in 5 equal parts. For each combination of hyperparameters, the model is trained on 80% of the data and validated on the other 20%. Then the roles of training and validation set rotate until each part has served as validation set exactly once. The final validation error for one particular combination of hyperparameters is computed as the mean from all 5 errors on the 5 validation sets. The combination with lowest average error is chosen for the final model.\n",
    "\n",
    "The cross-validated grid search routine is implemented in scikit-learn."
   ]
  },
  {
   "cell_type": "code",
   "execution_count": 87,
   "metadata": {},
   "outputs": [
    {
     "name": "stdout",
     "output_type": "stream",
     "text": [
      "Fitting 2 folds for each of 9 candidates, totalling 18 fits\n",
      "[CV] alpha=0.01, gamma=0.01, kernel=rbf ..............................\n",
      "[CV]  alpha=0.01, gamma=0.01, kernel=rbf, score=-5.772978060705187, total=   0.1s\n",
      "[Parallel(n_jobs=1)]: Done   1 out of   1 | elapsed:    0.1s remaining:    0.0s\n",
      "[CV] alpha=0.01, gamma=0.01, kernel=rbf ..............................\n",
      "[CV]  alpha=0.01, gamma=0.01, kernel=rbf, score=-5.771714742798902, total=   0.0s\n",
      "[Parallel(n_jobs=1)]: Done   2 out of   2 | elapsed:    0.2s remaining:    0.0s\n",
      "[CV] alpha=0.01, gamma=0.1, kernel=rbf ...............................\n",
      "[CV]  alpha=0.01, gamma=0.1, kernel=rbf, score=-5.775482999996681, total=   0.1s\n",
      "[Parallel(n_jobs=1)]: Done   3 out of   3 | elapsed:    0.2s remaining:    0.0s\n",
      "[CV] alpha=0.01, gamma=0.1, kernel=rbf ...............................\n",
      "[CV]  alpha=0.01, gamma=0.1, kernel=rbf, score=-5.774126199996851, total=   0.1s\n",
      "[Parallel(n_jobs=1)]: Done   4 out of   4 | elapsed:    0.3s remaining:    0.0s\n",
      "[CV] alpha=0.01, gamma=1.0, kernel=rbf ...............................\n",
      "[CV]  alpha=0.01, gamma=1.0, kernel=rbf, score=-5.775483, total=   0.0s\n",
      "[Parallel(n_jobs=1)]: Done   5 out of   5 | elapsed:    0.3s remaining:    0.0s\n",
      "[CV] alpha=0.01, gamma=1.0, kernel=rbf ...............................\n",
      "[CV]  alpha=0.01, gamma=1.0, kernel=rbf, score=-5.7741262, total=   0.0s\n",
      "[Parallel(n_jobs=1)]: Done   6 out of   6 | elapsed:    0.4s remaining:    0.0s\n",
      "[CV] alpha=0.1, gamma=0.01, kernel=rbf ...............................\n",
      "[CV]  alpha=0.1, gamma=0.01, kernel=rbf, score=-5.773183010114661, total=   0.0s\n",
      "[Parallel(n_jobs=1)]: Done   7 out of   7 | elapsed:    0.4s remaining:    0.0s\n",
      "[CV] alpha=0.1, gamma=0.01, kernel=rbf ...............................\n",
      "[CV]  alpha=0.1, gamma=0.01, kernel=rbf, score=-5.771912037348326, total=   0.0s\n",
      "[Parallel(n_jobs=1)]: Done   8 out of   8 | elapsed:    0.5s remaining:    0.0s\n",
      "[CV] alpha=0.1, gamma=0.1, kernel=rbf ................................\n",
      "[CV]  alpha=0.1, gamma=0.1, kernel=rbf, score=-5.775482999996953, total=   0.0s\n",
      "[Parallel(n_jobs=1)]: Done   9 out of   9 | elapsed:    0.5s remaining:    0.0s\n",
      "[CV] alpha=0.1, gamma=0.1, kernel=rbf ................................\n",
      "[CV]  alpha=0.1, gamma=0.1, kernel=rbf, score=-5.7741261999971085, total=   0.0s\n",
      "[Parallel(n_jobs=1)]: Done  10 out of  10 | elapsed:    0.6s remaining:    0.0s\n",
      "[CV] alpha=0.1, gamma=1.0, kernel=rbf ................................\n",
      "[CV]  alpha=0.1, gamma=1.0, kernel=rbf, score=-5.775483, total=   0.0s\n",
      "[Parallel(n_jobs=1)]: Done  11 out of  11 | elapsed:    0.6s remaining:    0.0s\n",
      "[CV] alpha=0.1, gamma=1.0, kernel=rbf ................................\n",
      "[CV]  alpha=0.1, gamma=1.0, kernel=rbf, score=-5.7741262, total=   0.0s\n",
      "[Parallel(n_jobs=1)]: Done  12 out of  12 | elapsed:    0.7s remaining:    0.0s\n",
      "[CV] alpha=1.0, gamma=0.01, kernel=rbf ...............................\n",
      "[CV]  alpha=1.0, gamma=0.01, kernel=rbf, score=-5.774218005093129, total=   0.0s\n",
      "[Parallel(n_jobs=1)]: Done  13 out of  13 | elapsed:    0.7s remaining:    0.0s\n",
      "[CV] alpha=1.0, gamma=0.01, kernel=rbf ...............................\n",
      "[CV]  alpha=1.0, gamma=0.01, kernel=rbf, score=-5.772908392503312, total=   0.0s\n",
      "[Parallel(n_jobs=1)]: Done  14 out of  14 | elapsed:    0.8s remaining:    0.0s\n",
      "[CV] alpha=1.0, gamma=0.1, kernel=rbf ................................\n",
      "[CV]  alpha=1.0, gamma=0.1, kernel=rbf, score=-5.775482999998324, total=   0.1s\n",
      "[Parallel(n_jobs=1)]: Done  15 out of  15 | elapsed:    0.8s remaining:    0.0s\n",
      "[CV] alpha=1.0, gamma=0.1, kernel=rbf ................................\n",
      "[CV]  alpha=1.0, gamma=0.1, kernel=rbf, score=-5.77412619999841, total=   0.0s\n",
      "[Parallel(n_jobs=1)]: Done  16 out of  16 | elapsed:    0.9s remaining:    0.0s\n",
      "[CV] alpha=1.0, gamma=1.0, kernel=rbf ................................\n",
      "[CV]  alpha=1.0, gamma=1.0, kernel=rbf, score=-5.775483, total=   0.0s\n",
      "[Parallel(n_jobs=1)]: Done  17 out of  17 | elapsed:    0.9s remaining:    0.0s\n",
      "[CV] alpha=1.0, gamma=1.0, kernel=rbf ................................\n",
      "[CV]  alpha=1.0, gamma=1.0, kernel=rbf, score=-5.7741262, total=   0.0s\n",
      "[Parallel(n_jobs=1)]: Done  18 out of  18 | elapsed:    1.0s remaining:    0.0s\n",
      "[Parallel(n_jobs=1)]: Done  18 out of  18 | elapsed:    1.0s finished\n"
     ]
    },
    {
     "data": {
      "text/plain": [
       "GridSearchCV(cv=2, error_score='raise',\n",
       "       estimator=KernelRidge(alpha=1, coef0=1, degree=3, gamma=None, kernel='linear',\n",
       "      kernel_params=None),\n",
       "       fit_params=None, iid=True, n_jobs=1,\n",
       "       param_grid=[{'kernel': ['rbf'], 'alpha': array([ 0.01,  0.1 ,  1.  ]), 'gamma': array([ 0.01,  0.1 ,  1.  ])}],\n",
       "       pre_dispatch='2*n_jobs', refit=True, return_train_score='warn',\n",
       "       scoring='neg_mean_absolute_error', verbose=1000)"
      ]
     },
     "execution_count": 87,
     "metadata": {},
     "output_type": "execute_result"
    }
   ],
   "source": [
    "## set up grids for alpha and gamma hyperparameters. \n",
    "#first value: lower bound; second value: upper bound; \n",
    "#third value: number of points to evaluate between upper and lower bounds --> make sure to change third value as well!\n",
    "alpha = np.logspace(-2, 0, 3)\n",
    "gamma = np.logspace(-2, 0, 3)\n",
    "\n",
    "## define settings for grid search routine in scikit-learn with above defined grids as input\n",
    "\n",
    "grid_search = GridSearchCV(KernelRidge(),  ## machine learning method (KRR here)\n",
    "                           [{'kernel':['rbf'],'alpha': alpha, 'gamma': gamma}], ### select kernel function here ('rbf': Gaussian kernel, 'laplacian': Laplacian kernel)\n",
    "                           cv=2, ## choose into how many parts training set is divided for cross-validation\n",
    "                           scoring='neg_mean_absolute_error',  # select a scoring function --> here the mean absolute error\n",
    "                          verbose=1000)  ## produces detailed output statements of grid search routine so we can see what is computed\n",
    "\n",
    "# call the fit function in scikit-learn which fits the Coulomb matrices in the training set to their corresponding HOMO energies.\n",
    "grid_search.fit(x_train, y_train)"
   ]
  },
  {
   "cell_type": "markdown",
   "metadata": {},
   "source": [
    "## Grid search results\n",
    "\n",
    "Print out the average validation errors and corresponding hyperparameter combinations"
   ]
  },
  {
   "cell_type": "code",
   "execution_count": 88,
   "metadata": {},
   "outputs": [
    {
     "name": "stdout",
     "output_type": "stream",
     "text": [
      "-5.772 (+/-0.001) for {'alpha': 0.01, 'gamma': 0.01, 'kernel': 'rbf'}\n",
      "-5.775 (+/-0.001) for {'alpha': 0.01, 'gamma': 0.10000000000000001, 'kernel': 'rbf'}\n",
      "-5.775 (+/-0.001) for {'alpha': 0.01, 'gamma': 1.0, 'kernel': 'rbf'}\n",
      "-5.773 (+/-0.001) for {'alpha': 0.10000000000000001, 'gamma': 0.01, 'kernel': 'rbf'}\n",
      "-5.775 (+/-0.001) for {'alpha': 0.10000000000000001, 'gamma': 0.10000000000000001, 'kernel': 'rbf'}\n",
      "-5.775 (+/-0.001) for {'alpha': 0.10000000000000001, 'gamma': 1.0, 'kernel': 'rbf'}\n",
      "-5.774 (+/-0.001) for {'alpha': 1.0, 'gamma': 0.01, 'kernel': 'rbf'}\n",
      "-5.775 (+/-0.001) for {'alpha': 1.0, 'gamma': 0.10000000000000001, 'kernel': 'rbf'}\n",
      "-5.775 (+/-0.001) for {'alpha': 1.0, 'gamma': 1.0, 'kernel': 'rbf'}\n"
     ]
    }
   ],
   "source": [
    "means = grid_search.cv_results_['mean_test_score']\n",
    "stds = grid_search.cv_results_['std_test_score']\n",
    "for mean, std, params in zip(means, stds, grid_search.cv_results_['params']):\n",
    "    print(\"%0.3f (+/-%0.03f) for %r\" % (mean, std * 2, params))"
   ]
  },
  {
   "cell_type": "markdown",
   "metadata": {},
   "source": [
    "Next, we visualize the grid search results by plotting a heatmap."
   ]
  },
  {
   "cell_type": "code",
   "execution_count": 89,
   "metadata": {},
   "outputs": [
    {
     "name": "stderr",
     "output_type": "stream",
     "text": [
      "/home/annika/anaconda3/lib/python3.6/site-packages/sklearn/utils/deprecation.py:122: FutureWarning: You are accessing a training score ('mean_train_score'), which will not be available by default any more in 0.21. If you need training scores, please set return_train_score=True\n",
      "  warnings.warn(*warn_args, **warn_kwargs)\n",
      "/home/annika/anaconda3/lib/python3.6/site-packages/sklearn/utils/deprecation.py:122: FutureWarning: You are accessing a training score ('split0_train_score'), which will not be available by default any more in 0.21. If you need training scores, please set return_train_score=True\n",
      "  warnings.warn(*warn_args, **warn_kwargs)\n",
      "/home/annika/anaconda3/lib/python3.6/site-packages/sklearn/utils/deprecation.py:122: FutureWarning: You are accessing a training score ('split1_train_score'), which will not be available by default any more in 0.21. If you need training scores, please set return_train_score=True\n",
      "  warnings.warn(*warn_args, **warn_kwargs)\n",
      "/home/annika/anaconda3/lib/python3.6/site-packages/sklearn/utils/deprecation.py:122: FutureWarning: You are accessing a training score ('std_train_score'), which will not be available by default any more in 0.21. If you need training scores, please set return_train_score=True\n",
      "  warnings.warn(*warn_args, **warn_kwargs)\n"
     ]
    },
    {
     "data": {
      "image/png": "[encoded data removed]",
      "text/plain": [
       "<matplotlib.figure.Figure at 0x7f139ac6be80>"
      ]
     },
     "metadata": {},
     "output_type": "display_data"
    },
    {
     "name": "stdout",
     "output_type": "stream",
     "text": [
      "The best combinations of parameters are {'alpha': 0.01, 'gamma': 0.01, 'kernel': 'rbf'} with a score of 5.772 eV on the validation set.\n"
     ]
    }
   ],
   "source": [
    "results = pd.DataFrame(grid_search.cv_results_)\n",
    "\n",
    "pvt = pd.pivot_table(pd.DataFrame(grid_search.cv_results_), values='mean_test_score', \n",
    "                     index='param_gamma', columns='param_alpha')\n",
    "heatmap = sns.heatmap(pvt, annot=True, cmap='viridis', cbar_kws={'label': \"Mean absolute error [eV]\"})\n",
    "figure = heatmap.get_figure()\n",
    "plt.show()\n",
    "\n",
    "\n",
    "print(\"The best combinations of parameters are %s with a score of %0.3f eV on the validation set.\" % (grid_search.best_params_, -grid_search.best_score_))"
   ]
  },
  {
   "cell_type": "markdown",
   "metadata": {},
   "source": [
    "## Testing\n",
    "\n",
    "With the best combination of hyperparameters, the model is once again trained on the entire training set. Then, predictions are made on the test set to evaluate the final model. With the fitted regressions weights $\\omega_i$ and the selected hyperparameter $\\gamma$ (kernel width), the final model is used to predict the energies of the test molecules. The energy of a particular test molecule $\\boldsymbol{x}$ is predicted by computing the weighted sum of kernel contributions $k(\\boldsymbol{x}, \\boldsymbol{x}_i)$ between the test molecule $\\boldsymbol{x}$ and each of the $N$ molecules $\\boldsymbol{x}_i$ in the training set (sum over $N$):\n",
    "\n",
    "\\begin{equation}\n",
    "f(x) = \\sum_{i=1}^N \\omega_i k(\\boldsymbol{x}, \\boldsymbol{x}_i) = HOMO^{pred},\n",
    "\\end{equation}\n",
    "\n",
    "The deviation of the predicted HOMO energies to the true reference HOMO energies yields the final error of the model. We compute the mean absolute error between predicted and reference HOMO energies for all $M$ test molecules (sum over $M$):\n",
    "\n",
    "\\begin{equation}\n",
    "\\sum_{i=1}^M \\frac{1}{M} \\big|HOMO^{pred} - HOMO^{ref}\\big|\n",
    "\\end{equation}\n"
   ]
  },
  {
   "cell_type": "code",
   "execution_count": 90,
   "metadata": {},
   "outputs": [
    {
     "name": "stdout",
     "output_type": "stream",
     "text": [
      "Mean absolute error on test set: 5.744 eV\n"
     ]
    },
    {
     "data": {
      "image/png": "[encoded data removed]",
      "text/plain": [
       "<matplotlib.figure.Figure at 0x7f1393b88940>"
      ]
     },
     "metadata": {},
     "output_type": "display_data"
    },
    {
     "name": "stdout",
     "output_type": "stream",
     "text": [
      "R^2 score on test set: -124.543\n"
     ]
    }
   ],
   "source": [
    "# predicted HOMO energies for all test molecules\n",
    "y_pred = grid_search.predict(x_test)\n",
    "\n",
    "print(\"Mean absolute error on test set: %0.3f eV\" %(np.abs(y_pred-y_test)).mean())\n",
    "\n",
    "# do the regression plot\n",
    "plt.plot(y_test, y_pred, 'o')\n",
    "plt.plot([np.min(y_test),np.max(y_test)], [np.min(y_test),np.max(y_test)], '-')\n",
    "plt.xlabel('reference HOMO energy [eV]')\n",
    "plt.ylabel('predicted HOMO energy [eV]')\n",
    "plt.show()\n",
    "print(\"R^2 score on test set: %.3f\" % r2_score(y_test, y_pred))"
   ]
  },
  {
   "cell_type": "markdown",
   "metadata": {},
   "source": [
    "The $R^2$ score indicates how close the predicted energies in the test set are to the reference energies. The closer the points in the above figure are located to the diagonal, the better the predictions. Points on the diagonal (\"predicted energy\"=\"reference energy\") correspond to $R^2=1$. Therefore, $R^2$ values close to 1 indicate good model performance."
   ]
  },
  {
   "cell_type": "markdown",
   "metadata": {
    "collapsed": true
   },
   "source": [
    "## Exercises\n",
    "\n",
    "### 1. Grid search\n",
    "\n",
    "Increase the number and range of grid points used for grid search. Which combination of $\\alpha$ and $\\gamma$ works best? How does the computational time increase? Choose a reasonable number of grid points that don't take too long to evaluate."
   ]
  },
  {
   "cell_type": "code",
   "execution_count": null,
   "metadata": {
    "collapsed": true
   },
   "outputs": [],
   "source": []
  },
  {
   "cell_type": "markdown",
   "metadata": {},
   "source": [
    "### 2. Cross-validation\n",
    "\n",
    "Increase the number of folds used for cross-validation. Does the quality of the model increase? Take note as well of the increasing computational time and choose a number of folds that does not require too much computational time."
   ]
  },
  {
   "cell_type": "code",
   "execution_count": null,
   "metadata": {
    "collapsed": true
   },
   "outputs": [],
   "source": []
  },
  {
   "cell_type": "markdown",
   "metadata": {},
   "source": [
    "### 3. Kernel function\n",
    "\n",
    "Use the Laplacian kernel instead of the Gaussian kernel. Which kernel leads to better model performance?"
   ]
  },
  {
   "cell_type": "code",
   "execution_count": null,
   "metadata": {
    "collapsed": true
   },
   "outputs": [],
   "source": []
  },
  {
   "cell_type": "markdown",
   "metadata": {},
   "source": [
    "### 4. Training set size\n",
    "\n",
    "Using the better performing kernel, let's investigate the effects of training set size on the final model.\n",
    "\n",
    "Increase the size of the training set and plot the mean absolute error on the test set as a function of training set size (e.g. use 1000, 2000, 3000 etc. as training set size). How does the computational time increase? What is the largest training set size that allows training within a reasonable time, given computational resources?\n",
    "\n",
    "The optimal hyperparameter values for $\\alpha$ and $\\gamma$ can change throughout varying training set sizes. Therefore, when increasing the training set size, it is recommended to perform a cross-validated grid search for each training set size. Use a reasonable amount of grid points as well as a reasonable number of folds for cross-validation. Take note of the optimal hyperparameters for each training set size. Do they change? "
   ]
  },
  {
   "cell_type": "code",
   "execution_count": null,
   "metadata": {
    "collapsed": true
   },
   "outputs": [],
   "source": []
  }
 ],
 "metadata": {
  "anaconda-cloud": {},
  "kernelspec": {
   "display_name": "Python 3",
   "language": "python",
   "name": "python3"
  },
  "language_info": {
   "codemirror_mode": {
    "name": "ipython",
    "version": 3
   },
   "file_extension": ".py",
   "mimetype": "text/x-python",
   "name": "python",
   "nbconvert_exporter": "python",
   "pygments_lexer": "ipython3",
   "version": "3.6.10"
  }
 },
 "nbformat": 4,
 "nbformat_minor": 2
}
